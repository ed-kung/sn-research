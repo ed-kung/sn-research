{
 "cells": [
  {
   "cell_type": "code",
   "execution_count": 1,
   "id": "9b650868",
   "metadata": {},
   "outputs": [],
   "source": [
    "import pandas as pd\n",
    "import yaml \n",
    "import os\n",
    "\n",
    "with open(\"../../config.yaml.local\", \"r\") as f:\n",
    "    LOCAL_CONFIG = yaml.safe_load(f)\n",
    "\n",
    "DB_CONN_STR = LOCAL_CONFIG[\"DB_CONN_STR\"]\n",
    "RAW_DATA_PATH = LOCAL_CONFIG[\"RAW_DATA_PATH\"]"
   ]
  },
  {
   "cell_type": "code",
   "execution_count": 2,
   "id": "8dac2d2c",
   "metadata": {},
   "outputs": [],
   "source": [
    "users_df = pd.read_sql(\"SELECT * FROM public.users\", DB_CONN_STR)\n",
    "users_df.to_parquet(os.path.join(RAW_DATA_PATH, \"users.parquet\"), index=False)"
   ]
  },
  {
   "cell_type": "code",
   "execution_count": 3,
   "id": "830fddd1",
   "metadata": {},
   "outputs": [],
   "source": [
    "item_df = pd.read_sql('SELECT * FROM public.\"Item\"', DB_CONN_STR)\n",
    "item_df = item_df.drop(columns=['otsFile', 'otsHash', 'imgproxyUrls'])\n",
    "item_df.to_parquet(os.path.join(RAW_DATA_PATH, \"item.parquet\"), index=False)\n"
   ]
  },
  {
   "cell_type": "code",
   "execution_count": 4,
   "id": "3c52d00d",
   "metadata": {},
   "outputs": [],
   "source": [
    "itemact_df = pd.read_sql('SELECT * FROM public.\"ItemAct\"', DB_CONN_STR)\n",
    "itemact_df.to_parquet(os.path.join(RAW_DATA_PATH, \"itemact.parquet\"), index=False)"
   ]
  },
  {
   "cell_type": "code",
   "execution_count": 5,
   "id": "8dfc4b4a",
   "metadata": {},
   "outputs": [],
   "source": [
    "invoiceforward_df = pd.read_sql('SELECT * FROM public.\"InvoiceForward\"', DB_CONN_STR)\n",
    "invoiceforward_df.to_parquet(os.path.join(RAW_DATA_PATH, \"invoiceforward.parquet\"), index=False)"
   ]
  },
  {
   "cell_type": "code",
   "execution_count": 6,
   "id": "e3b86a86",
   "metadata": {},
   "outputs": [],
   "source": [
    "invoice_df = pd.read_sql('SELECT * FROM public.\"Invoice\"', DB_CONN_STR)\n",
    "invoice_df.to_parquet(os.path.join(RAW_DATA_PATH, \"invoice.parquet\"), index=False)"
   ]
  },
  {
   "cell_type": "code",
   "execution_count": 7,
   "id": "28b8b6d8",
   "metadata": {},
   "outputs": [],
   "source": [
    "withdrawal_df = pd.read_sql('SELECT * FROM public.\"Withdrawl\"', DB_CONN_STR)\n",
    "withdrawal_df.to_parquet(os.path.join(RAW_DATA_PATH, \"withdrawal.parquet\"), index=False)"
   ]
  },
  {
   "cell_type": "code",
   "execution_count": 8,
   "id": "54dc902a",
   "metadata": {},
   "outputs": [],
   "source": [
    "wallet_df = pd.read_sql('SELECT * FROM public.\"Wallet\"', DB_CONN_STR)\n",
    "wallet_df.to_parquet(os.path.join(RAW_DATA_PATH, \"wallet.parquet\"), index=False)"
   ]
  },
  {
   "cell_type": "code",
   "execution_count": 9,
   "id": "5c2f8dba",
   "metadata": {},
   "outputs": [],
   "source": [
    "walletprotocol_df = pd.read_sql('SELECT * FROM public.\"WalletProtocol\"', DB_CONN_STR)\n",
    "walletprotocol_df.to_parquet(os.path.join(RAW_DATA_PATH, \"walletprotocol.parquet\"), index=False)"
   ]
  },
  {
   "cell_type": "code",
   "execution_count": 10,
   "id": "f478731c",
   "metadata": {},
   "outputs": [],
   "source": [
    "itemupload_df = pd.read_sql('SELECT * FROM public.\"ItemUpload\"', DB_CONN_STR)\n",
    "itemupload_df.to_parquet(os.path.join(RAW_DATA_PATH, \"itemupload.parquet\"), index=False)"
   ]
  },
  {
   "cell_type": "code",
   "execution_count": 11,
   "id": "e5f00121",
   "metadata": {},
   "outputs": [],
   "source": [
    "upload_df = pd.read_sql('SELECT * FROM public.\"Upload\"', DB_CONN_STR)\n",
    "upload_df.to_parquet(os.path.join(RAW_DATA_PATH, \"upload.parquet\"), index=False)"
   ]
  },
  {
   "cell_type": "code",
   "execution_count": 12,
   "id": "97e0af4c",
   "metadata": {},
   "outputs": [],
   "source": [
    "territorytransfer_df = pd.read_sql('SELECT * FROM public.\"TerritoryTransfer\"', DB_CONN_STR)\n",
    "territorytransfer_df.to_parquet(os.path.join(RAW_DATA_PATH, \"territorytransfer.parquet\"), index=False)"
   ]
  },
  {
   "cell_type": "code",
   "execution_count": 13,
   "id": "1eb12f8b",
   "metadata": {},
   "outputs": [],
   "source": [
    "sub_df = pd.read_sql('SELECT * FROM public.\"Sub\"', DB_CONN_STR)\n",
    "sub_df.to_parquet(os.path.join(RAW_DATA_PATH, \"sub.parquet\"), index=False)"
   ]
  },
  {
   "cell_type": "code",
   "execution_count": 2,
   "id": "c8df3654",
   "metadata": {},
   "outputs": [],
   "source": [
    "subact_df = pd.read_sql('SELECT * FROM public.\"SubAct\"', DB_CONN_STR)\n",
    "subact_df.to_parquet(os.path.join(RAW_DATA_PATH, \"subact.parquet\"), index=False)"
   ]
  },
  {
   "cell_type": "code",
   "execution_count": 2,
   "id": "53694517",
   "metadata": {},
   "outputs": [],
   "source": [
    "user_stats_days = pd.read_sql('SELECT * FROM public.\"user_stats_days\"', DB_CONN_STR)\n",
    "user_stats_days.to_parquet(os.path.join(RAW_DATA_PATH, \"user_stats_days.parquet\"), index=False)"
   ]
  }
 ],
 "metadata": {
  "kernelspec": {
   "display_name": "Python 3",
   "language": "python",
   "name": "python3"
  },
  "language_info": {
   "codemirror_mode": {
    "name": "ipython",
    "version": 3
   },
   "file_extension": ".py",
   "mimetype": "text/x-python",
   "name": "python",
   "nbconvert_exporter": "python",
   "pygments_lexer": "ipython3",
   "version": "3.9.6"
  }
 },
 "nbformat": 4,
 "nbformat_minor": 5
}
