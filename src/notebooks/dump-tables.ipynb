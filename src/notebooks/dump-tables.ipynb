{
 "cells": [
  {
   "cell_type": "code",
   "execution_count": 1,
   "id": "9b650868",
   "metadata": {},
   "outputs": [],
   "source": [
    "import pandas as pd\n",
    "import yaml \n",
    "import os\n",
    "\n",
    "with open(\"../../config.yaml.local\", \"r\") as f:\n",
    "    LOCAL_CONFIG = yaml.safe_load(f)\n",
    "\n",
    "DB_CONN_STR = LOCAL_CONFIG[\"DB_CONN_STR\"]\n",
    "RAW_DATA_PATH = LOCAL_CONFIG[\"RAW_DATA_PATH\"]"
   ]
  },
  {
   "cell_type": "code",
   "execution_count": 2,
   "id": "8dac2d2c",
   "metadata": {},
   "outputs": [],
   "source": [
    "users_df = pd.read_sql(\"SELECT * FROM public.users\", DB_CONN_STR)\n",
    "users_df.to_parquet(os.path.join(RAW_DATA_PATH, \"users.parquet\"), index=False)"
   ]
  },
  {
   "cell_type": "code",
   "execution_count": 3,
   "id": "830fddd1",
   "metadata": {},
   "outputs": [],
   "source": [
    "item_df = pd.read_sql('SELECT * FROM public.\"Item\"', DB_CONN_STR)\n",
    "item_df = item_df.drop(columns=['otsFile', 'otsHash', 'imgproxyUrls'])\n",
    "item_df.to_parquet(os.path.join(RAW_DATA_PATH, \"item.parquet\"), index=False)\n"
   ]
  },
  {
   "cell_type": "code",
   "execution_count": 5,
   "id": "3c52d00d",
   "metadata": {},
   "outputs": [],
   "source": [
    "itemact_df = pd.read_sql('SELECT * FROM public.\"ItemAct\"', DB_CONN_STR)\n",
    "itemact_df.to_parquet(os.path.join(RAW_DATA_PATH, \"itemact.parquet\"), index=False)"
   ]
  }
 ],
 "metadata": {
  "kernelspec": {
   "display_name": "Python 3",
   "language": "python",
   "name": "python3"
  },
  "language_info": {
   "codemirror_mode": {
    "name": "ipython",
    "version": 3
   },
   "file_extension": ".py",
   "mimetype": "text/x-python",
   "name": "python",
   "nbconvert_exporter": "python",
   "pygments_lexer": "ipython3",
   "version": "3.9.6"
  }
 },
 "nbformat": 4,
 "nbformat_minor": 5
}
