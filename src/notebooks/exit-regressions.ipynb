{
 "cells": [
  {
   "cell_type": "code",
   "execution_count": 1,
   "id": "9b650868",
   "metadata": {},
   "outputs": [],
   "source": [
    "import os\n",
    "import sys\n",
    "import pandas as pd\n",
    "import yaml \n",
    "from matplotlib import pyplot as plt\n",
    "from matplotlib import ticker as mticker\n",
    "import statsmodels.api as sm\n",
    "import numpy as np\n",
    "from itertools import product\n",
    "import subprocess\n",
    "\n",
    "with open(\"../../config.yaml.local\", \"r\") as f:\n",
    "    LOCAL_CONFIG = yaml.safe_load(f)\n",
    "#with open(\"../../config.yaml\", \"r\") as f:\n",
    "#    CONFIG = yaml.safe_load(f)\n",
    "sys.path.append(\"../python\")\n",
    "\n",
    "import globals\n",
    "import data_tools as dt\n",
    "\n",
    "LOCAL_PATH = LOCAL_CONFIG[\"LOCAL_PATH\"]\n",
    "RAW_DATA_PATH = LOCAL_CONFIG[\"RAW_DATA_PATH\"]\n",
    "DATA_PATH = LOCAL_CONFIG[\"DATA_PATH\"]\n",
    "R_PATH = LOCAL_CONFIG[\"R_PATH\"]\n",
    "\n",
    "RUN_R_SCRIPTS = False\n"
   ]
  },
  {
   "cell_type": "code",
   "execution_count": null,
   "id": "e1cc7fa0",
   "metadata": {},
   "outputs": [
    {
     "name": "stderr",
     "output_type": "stream",
     "text": [
      "c:\\Users\\edwar\\projects\\sn-research\\src\\notebooks\\../python\\data_tools.py:55: UserWarning: Converting to PeriodArray/Index representation will drop timezone information.\n",
      "  return x.dt.to_period('W-SAT').dt.start_time\n",
      "c:\\Users\\edwar\\projects\\sn-research\\src\\notebooks\\../python\\data_tools.py:55: UserWarning: Converting to PeriodArray/Index representation will drop timezone information.\n",
      "  return x.dt.to_period('W-SAT').dt.start_time\n",
      "c:\\Users\\edwar\\projects\\sn-research\\src\\notebooks\\../python\\data_tools.py:562: UserWarning: Converting to Period representation will drop timezone information.\n",
      "  week_start = globals.data_start.to_period('W-SAT').start_time\n",
      "c:\\Users\\edwar\\projects\\sn-research\\src\\notebooks\\../python\\data_tools.py:563: UserWarning: Converting to Period representation will drop timezone information.\n",
      "  week_end = globals.data_end.to_period('W-SAT').start_time\n",
      "c:\\Users\\edwar\\projects\\sn-research\\src\\notebooks\\../python\\data_tools.py:55: UserWarning: Converting to PeriodArray/Index representation will drop timezone information.\n",
      "  return x.dt.to_period('W-SAT').dt.start_time\n"
     ]
    }
   ],
   "source": [
    "df = dt.get_user_by_week_panel()\n",
    "weekly_prices = dt.get_price_weekly()"
   ]
  },
  {
   "cell_type": "code",
   "execution_count": 3,
   "id": "295f607a",
   "metadata": {},
   "outputs": [],
   "source": [
    "weekly_prices['wow_growth'] = np.log(weekly_prices['btc_price']) - np.log(weekly_prices['btc_price'].shift(1))\n",
    "weekly_prices['mom_growth'] = np.log(weekly_prices['btc_price']) - np.log(weekly_prices['btc_price'].shift(4))\n",
    "weekly_prices['yoy_growth'] = np.log(weekly_prices['btc_price']) - np.log(weekly_prices['btc_price'].shift(52))"
   ]
  },
  {
   "cell_type": "code",
   "execution_count": 4,
   "id": "00b1c601",
   "metadata": {},
   "outputs": [],
   "source": [
    "# merge on weekly prices\n",
    "df = df.merge(weekly_prices, on='week', how='left')\n",
    "\n",
    "# remove SN employees\n",
    "df = df.loc[~df['userId'].isin(globals.sn_employee_ids)].reset_index(drop=True)\n",
    "\n",
    "# remove anon\n",
    "df = df.loc[df['userId'] != globals.anon_id].reset_index(drop=True)\n",
    "\n",
    "# output\n",
    "df.to_csv(os.path.join(DATA_PATH, \"user_analysis_data.csv\"), index=False)"
   ]
  },
  {
   "cell_type": "code",
   "execution_count": null,
   "id": "a2fff2b4",
   "metadata": {},
   "outputs": [
    {
     "name": "stdout",
     "output_type": "stream",
     "text": [
      "\n",
      "==========================================================\n",
      "                               Dependent variable:        \n",
      "                       -----------------------------------\n",
      "                                 became_inactive          \n",
      "                           (1)         (2)         (3)    \n",
      "----------------------------------------------------------\n",
      "unprofitable            0.900***    0.901***    0.875***  \n",
      "                         (0.024)     (0.024)     (0.025)  \n",
      "                                                          \n",
      "pgrowth                              -0.036     -0.197**  \n",
      "                                     (0.084)     (0.099)  \n",
      "                                                          \n",
      "unprofitable_X_pgrowth                          0.573***  \n",
      "                                                 (0.185)  \n",
      "                                                          \n",
      "Constant                -2.499***   -2.498***   -2.492*** \n",
      "                         (0.013)     (0.014)     (0.014)  \n",
      "                                                          \n",
      "----------------------------------------------------------\n",
      "Observations             100,278     100,278     100,278  \n",
      "Log Likelihood         -30,369.150 -30,369.060 -30,364.290\n",
      "Akaike Inf. Crit.      60,742.300  60,744.110  60,736.580 \n",
      "==========================================================\n",
      "Note:                          *p<0.1; **p<0.05; ***p<0.01\n",
      "\n",
      "======================================================================================================\n",
      "                                                     Dependent variable:                              \n",
      "                       -------------------------------------------------------------------------------\n",
      "                                                       became_inactive                                \n",
      "                               (1)                 (2)                 (3)                 (4)        \n",
      "------------------------------------------------------------------------------------------------------\n",
      "unprofitable                0.092***            0.092***            0.089***            0.088***      \n",
      "                             (0.002)             (0.002)             (0.002)             (0.003)      \n",
      "                                                                                                      \n",
      "pgrowth                                          -0.003              -0.014*                          \n",
      "                                                 (0.007)             (0.008)                          \n",
      "                                                                                                      \n",
      "unprofitable_X_pgrowth                                              0.067***            0.078***      \n",
      "                                                                     (0.019)             (0.019)      \n",
      "                                                                                                      \n",
      "Constant                    0.076***            0.076***            0.076***                          \n",
      "                             (0.001)             (0.001)             (0.001)                          \n",
      "                                                                                                      \n",
      "------------------------------------------------------------------------------------------------------\n",
      "Observations                 100,278             100,278             100,278             100,278      \n",
      "R2                            0.015               0.015               0.015               0.020       \n",
      "Adjusted R2                   0.015               0.015               0.015               0.018       \n",
      "Residual Std. Error    0.288 (df = 100276) 0.288 (df = 100275) 0.288 (df = 100274) 0.288 (df = 100057)\n",
      "======================================================================================================\n",
      "Note:                                                                      *p<0.1; **p<0.05; ***p<0.01\n",
      "\n"
     ]
    }
   ],
   "source": [
    "res = subprocess.run([R_PATH, LOCAL_PATH + \"/src/R/exit-regressions.R\"], check=True, capture_output=True, text=True)\n",
    "#print(res.stdout)"
   ]
  }
 ],
 "metadata": {
  "kernelspec": {
   "display_name": "Python 3",
   "language": "python",
   "name": "python3"
  },
  "language_info": {
   "codemirror_mode": {
    "name": "ipython",
    "version": 3
   },
   "file_extension": ".py",
   "mimetype": "text/x-python",
   "name": "python",
   "nbconvert_exporter": "python",
   "pygments_lexer": "ipython3",
   "version": "3.12.10"
  }
 },
 "nbformat": 4,
 "nbformat_minor": 5
}
