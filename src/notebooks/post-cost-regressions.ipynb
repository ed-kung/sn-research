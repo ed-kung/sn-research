{
 "cells": [
  {
   "cell_type": "code",
   "execution_count": 23,
   "id": "9b650868",
   "metadata": {},
   "outputs": [],
   "source": [
    "import os\n",
    "import sys\n",
    "import pandas as pd\n",
    "import yaml \n",
    "from matplotlib import pyplot as plt\n",
    "from matplotlib import ticker as mticker\n",
    "import statsmodels.api as sm\n",
    "import numpy as np\n",
    "from itertools import product\n",
    "import subprocess\n",
    "\n",
    "with open(\"../../config.yaml.local\", \"r\") as f:\n",
    "    LOCAL_CONFIG = yaml.safe_load(f)\n",
    "#with open(\"../../config.yaml\", \"r\") as f:\n",
    "#    CONFIG = yaml.safe_load(f)\n",
    "sys.path.append(\"../python\")\n",
    "\n",
    "import globals\n",
    "import data_tools as dt\n",
    "import writing_tools as wt\n",
    "\n",
    "LOCAL_PATH = LOCAL_CONFIG[\"LOCAL_PATH\"]\n",
    "RAW_DATA_PATH = LOCAL_CONFIG[\"RAW_DATA_PATH\"]\n",
    "DATA_PATH = LOCAL_CONFIG[\"DATA_PATH\"]\n",
    "R_PATH = LOCAL_CONFIG[\"R_PATH\"]\n",
    "\n",
    "RUN_R_SCRIPTS = False\n",
    "\n",
    "RESULTS = {}"
   ]
  },
  {
   "cell_type": "code",
   "execution_count": 24,
   "id": "21d561dc",
   "metadata": {},
   "outputs": [
    {
     "name": "stderr",
     "output_type": "stream",
     "text": [
      "c:\\Users\\edwar\\projects\\sn-research\\src\\notebooks\\../python\\data_tools.py:55: UserWarning: Converting to PeriodArray/Index representation will drop timezone information.\n",
      "  return x.dt.to_period('W-SAT').dt.start_time\n",
      "c:\\Users\\edwar\\projects\\sn-research\\src\\notebooks\\../python\\data_tools.py:55: UserWarning: Converting to PeriodArray/Index representation will drop timezone information.\n",
      "  return x.dt.to_period('W-SAT').dt.start_time\n"
     ]
    }
   ],
   "source": [
    "# Output data for post quality regressions\n",
    "df1 = dt.get_post_quality_analysis_data()\n",
    "df1.to_csv(os.path.join(DATA_PATH, 'post_quality_analysis_data.csv'), index=False)"
   ]
  },
  {
   "cell_type": "code",
   "execution_count": 25,
   "id": "eb6dc701",
   "metadata": {},
   "outputs": [
    {
     "name": "stderr",
     "output_type": "stream",
     "text": [
      "c:\\Users\\edwar\\projects\\sn-research\\src\\notebooks\\../python\\data_tools.py:55: UserWarning: Converting to PeriodArray/Index representation will drop timezone information.\n",
      "  return x.dt.to_period('W-SAT').dt.start_time\n",
      "c:\\Users\\edwar\\projects\\sn-research\\src\\notebooks\\../python\\data_tools.py:55: UserWarning: Converting to PeriodArray/Index representation will drop timezone information.\n",
      "  return x.dt.to_period('W-SAT').dt.start_time\n"
     ]
    }
   ],
   "source": [
    "# Output data for post quantity regressions\n",
    "df2 = dt.get_post_quantity_analysis_data()\n",
    "df2.to_csv(os.path.join(DATA_PATH, 'post_quantity_analysis_data.csv'), index=False)"
   ]
  },
  {
   "cell_type": "code",
   "execution_count": 26,
   "id": "f3dd5adf",
   "metadata": {},
   "outputs": [],
   "source": [
    "res = subprocess.run([R_PATH, LOCAL_PATH + \"/src/R/post-cost-regressions.R\"], check=True, capture_output=True, text=True)\n",
    "#print(res.stdout)"
   ]
  },
  {
   "cell_type": "code",
   "execution_count": 27,
   "id": "7ab4be3e",
   "metadata": {},
   "outputs": [
    {
     "data": {
      "text/plain": [
       "{'PostsCostElasticity': '-0.244',\n",
       " 'PostsCostDoublingEffect': '15.6',\n",
       " 'Zaps48CostElasticity': '0.187',\n",
       " 'Zaps48CostDoublingEffect': '13.8'}"
      ]
     },
     "execution_count": 27,
     "metadata": {},
     "output_type": "execute_result"
    }
   ],
   "source": [
    "quantity_reg_coefs = pd.read_csv(\n",
    "    os.path.join(DATA_PATH, 'posts_cost_reg.csv'),\n",
    "    index_col = 0\n",
    ")\n",
    "coef = quantity_reg_coefs.loc['log_cost', 'coef(rquan3)']\n",
    "elast = fr\"{coef:.3f}\"\n",
    "double_effect = np.exp(coef*np.log(2)) - 1\n",
    "double_effect_pct = fr\"{np.abs(double_effect)*100:.1f}\"\n",
    "RESULTS['PostsCostElasticity'] = elast\n",
    "RESULTS['PostsCostDoublingEffect'] = double_effect_pct\n",
    "wt.update_results(RESULTS)\n"
   ]
  },
  {
   "cell_type": "code",
   "execution_count": 28,
   "id": "597bc790",
   "metadata": {},
   "outputs": [
    {
     "data": {
      "text/plain": [
       "{'PostsCostElasticity': '-0.244',\n",
       " 'PostsCostDoublingEffect': '15.6',\n",
       " 'Zaps48CostElasticity': '0.187',\n",
       " 'Zaps48CostDoublingEffect': '13.8'}"
      ]
     },
     "execution_count": 28,
     "metadata": {},
     "output_type": "execute_result"
    }
   ],
   "source": [
    "quality_reg_coefs = pd.read_csv(\n",
    "    os.path.join(DATA_PATH, 'sats48_cost_reg.csv'),\n",
    "    index_col = 0\n",
    ")\n",
    "coef = quality_reg_coefs.loc['log_cost', 'coef(rzaps3)']\n",
    "elast = fr\"{coef:.3f}\"\n",
    "double_effect = np.exp(coef*np.log(2)) - 1\n",
    "double_effect_pct = fr\"{np.abs(double_effect)*100:.1f}\"\n",
    "RESULTS['Zaps48CostElasticity'] = elast\n",
    "RESULTS['Zaps48CostDoublingEffect'] = double_effect_pct\n",
    "wt.update_results(RESULTS)\n"
   ]
  }
 ],
 "metadata": {
  "kernelspec": {
   "display_name": "Python 3",
   "language": "python",
   "name": "python3"
  },
  "language_info": {
   "codemirror_mode": {
    "name": "ipython",
    "version": 3
   },
   "file_extension": ".py",
   "mimetype": "text/x-python",
   "name": "python",
   "nbconvert_exporter": "python",
   "pygments_lexer": "ipython3",
   "version": "3.12.10"
  }
 },
 "nbformat": 4,
 "nbformat_minor": 5
}
