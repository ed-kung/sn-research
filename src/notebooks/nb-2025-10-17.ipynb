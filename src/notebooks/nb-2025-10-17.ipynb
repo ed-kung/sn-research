{
 "cells": [
  {
   "cell_type": "code",
   "execution_count": 5,
   "id": "9b650868",
   "metadata": {},
   "outputs": [],
   "source": [
    "import os\n",
    "import sys\n",
    "import pandas as pd\n",
    "import yaml \n",
    "from matplotlib import pyplot as plt\n",
    "from matplotlib import ticker as mticker\n",
    "import statsmodels.api as sm\n",
    "import numpy as np\n",
    "from itertools import product\n",
    "import subprocess\n",
    "\n",
    "with open(\"../../config.yaml.local\", \"r\") as f:\n",
    "    LOCAL_CONFIG = yaml.safe_load(f)\n",
    "#with open(\"../../config.yaml\", \"r\") as f:\n",
    "#    CONFIG = yaml.safe_load(f)\n",
    "sys.path.append(\"../python\")\n",
    "\n",
    "import globals\n",
    "import data_tools as dt\n",
    "\n",
    "LOCAL_PATH = LOCAL_CONFIG[\"LOCAL_PATH\"]\n",
    "RAW_DATA_PATH = LOCAL_CONFIG[\"RAW_DATA_PATH\"]\n",
    "DATA_PATH = LOCAL_CONFIG[\"DATA_PATH\"]\n",
    "R_PATH = LOCAL_CONFIG[\"R_PATH\"]\n",
    "\n",
    "RUN_R_SCRIPTS = False\n"
   ]
  },
  {
   "cell_type": "code",
   "execution_count": 6,
   "id": "21d561dc",
   "metadata": {},
   "outputs": [
    {
     "name": "stderr",
     "output_type": "stream",
     "text": [
      "c:\\Users\\edwar\\projects\\sn-research\\src\\notebooks\\../python\\data_tools.py:47: UserWarning: Converting to PeriodArray/Index representation will drop timezone information.\n",
      "  return x.dt.to_period('W-SAT').dt.start_time\n",
      "c:\\Users\\edwar\\projects\\sn-research\\src\\notebooks\\../python\\data_tools.py:47: UserWarning: Converting to PeriodArray/Index representation will drop timezone information.\n",
      "  return x.dt.to_period('W-SAT').dt.start_time\n"
     ]
    }
   ],
   "source": [
    "# Output data for post quality regressions\n",
    "df1 = dt.get_post_quality_analysis_data()\n",
    "df1.to_csv(os.path.join(DATA_PATH, 'post_quality_analysis_data.csv'), index=False)"
   ]
  },
  {
   "cell_type": "code",
   "execution_count": 7,
   "id": "eb6dc701",
   "metadata": {},
   "outputs": [
    {
     "name": "stderr",
     "output_type": "stream",
     "text": [
      "c:\\Users\\edwar\\projects\\sn-research\\src\\notebooks\\../python\\data_tools.py:47: UserWarning: Converting to PeriodArray/Index representation will drop timezone information.\n",
      "  return x.dt.to_period('W-SAT').dt.start_time\n",
      "c:\\Users\\edwar\\projects\\sn-research\\src\\notebooks\\../python\\data_tools.py:47: UserWarning: Converting to PeriodArray/Index representation will drop timezone information.\n",
      "  return x.dt.to_period('W-SAT').dt.start_time\n"
     ]
    }
   ],
   "source": [
    "# Output data for post quantity regressions\n",
    "df2 = dt.get_post_quantity_analysis_data()\n",
    "df2.to_csv(os.path.join(DATA_PATH, 'post_quantity_analysis_data.csv'), index=False)"
   ]
  },
  {
   "cell_type": "code",
   "execution_count": 8,
   "id": "f3dd5adf",
   "metadata": {},
   "outputs": [
    {
     "name": "stdout",
     "output_type": "stream",
     "text": [
      "\n",
      "Post Quantity on Territory Cost\n",
      "===========================================================================================\n",
      "                                              Dependent variable:                          \n",
      "                    -----------------------------------------------------------------------\n",
      "                                                   log_posts                               \n",
      "                           (1)               (2)               (3)               (4)       \n",
      "-------------------------------------------------------------------------------------------\n",
      "log_cost                -0.224***         -0.086***         -0.243***         -0.244***    \n",
      "                         (0.009)           (0.008)           (0.011)           (0.012)     \n",
      "                                                                                           \n",
      "Constant                3.238***                                                           \n",
      "                         (0.038)                                                           \n",
      "                                                                                           \n",
      "-------------------------------------------------------------------------------------------\n",
      "Territory FE                N                 Y                 Y                 Y        \n",
      "Week FE                     N                 N                 Y                 Y        \n",
      "Territory Owner FE          N                 N                 N                 Y        \n",
      "Observations              6,023             6,023             6,023             6,023      \n",
      "R2                        0.091             0.697             0.775             0.788      \n",
      "Adjusted R2               0.091             0.691             0.761             0.774      \n",
      "Residual Std. Error 1.333 (df = 6021) 0.777 (df = 5910) 0.683 (df = 5684) 0.664 (df = 5660)\n",
      "===========================================================================================\n",
      "Note:                                                           *p<0.1; **p<0.05; ***p<0.01\n",
      "\n",
      "Post Quality (Zaps) on Territory Cost\n",
      "===================================================================================================\n",
      "                                                  Dependent variable:                              \n",
      "                    -------------------------------------------------------------------------------\n",
      "                                                      log_sats48                                   \n",
      "                            (1)                 (2)                 (3)                 (4)        \n",
      "---------------------------------------------------------------------------------------------------\n",
      "log_cost                 0.335***            0.226***            0.237***            0.187***      \n",
      "                          (0.003)             (0.003)             (0.007)             (0.008)      \n",
      "                                                                                                   \n",
      "Constant                 2.775***                                                                  \n",
      "                          (0.008)                                                                  \n",
      "                                                                                                   \n",
      "---------------------------------------------------------------------------------------------------\n",
      "Territory FE                 N                   Y                   Y                   Y         \n",
      "Week FE                      N                   N                   Y                   Y         \n",
      "Territory Owner FE           N                   N                   N                   Y         \n",
      "Observations              179,653             179,653             179,653             179,653      \n",
      "R2                         0.079               0.159               0.181               0.184       \n",
      "Adjusted R2                0.079               0.158               0.180               0.183       \n",
      "Residual Std. Error 2.268 (df = 179651) 2.167 (df = 179539) 2.139 (df = 179313) 2.136 (df = 179289)\n",
      "===================================================================================================\n",
      "Note:                                                                   *p<0.1; **p<0.05; ***p<0.01\n",
      "\n",
      "Post Quality (Comments) on Territory Cost\n",
      "===================================================================================================\n",
      "                                                  Dependent variable:                              \n",
      "                    -------------------------------------------------------------------------------\n",
      "                                                    log_comments48                                 \n",
      "                            (1)                 (2)                 (3)                 (4)        \n",
      "---------------------------------------------------------------------------------------------------\n",
      "log_cost                 0.065***            0.042***            0.059***            0.033***      \n",
      "                          (0.001)             (0.001)             (0.003)             (0.003)      \n",
      "                                                                                                   \n",
      "Constant                 0.644***                                                                  \n",
      "                          (0.004)                                                                  \n",
      "                                                                                                   \n",
      "---------------------------------------------------------------------------------------------------\n",
      "Territory FE                 N                   Y                   Y                   Y         \n",
      "Week FE                      N                   N                   Y                   Y         \n",
      "Territory Owner FE           N                   N                   N                   Y         \n",
      "Observations              179,653             179,653             179,653             179,653      \n",
      "R2                         0.017               0.107               0.117               0.120       \n",
      "Adjusted R2                0.017               0.106               0.115               0.118       \n",
      "Residual Std. Error 0.971 (df = 179651) 0.926 (df = 179539) 0.921 (df = 179313) 0.920 (df = 179289)\n",
      "===================================================================================================\n",
      "Note:                                                                   *p<0.1; **p<0.05; ***p<0.01\n",
      "\n",
      "============================================================\n",
      "                                    Dependent variable:     \n",
      "                               -----------------------------\n",
      "                                          effect            \n",
      "                                  (1)        (2)       (3)  \n",
      "------------------------------------------------------------\n",
      "log_price                      -1.120***  -0.171***  0.029* \n",
      "                                (0.115)    (0.066)   (0.015)\n",
      "                                                            \n",
      "Constant                       18.117***   4.492***  0.379**\n",
      "                                (1.239)    (0.705)   (0.159)\n",
      "                                                            \n",
      "------------------------------------------------------------\n",
      "Observations                      226        226       226  \n",
      "R2                               0.296      0.030     0.016 \n",
      "Adjusted R2                      0.292      0.025     0.012 \n",
      "Residual Std. Error (df = 224)   0.985      0.560     0.126 \n",
      "F Statistic (df = 1; 224)      93.989***   6.813***  3.741* \n",
      "============================================================\n",
      "Note:                            *p<0.1; **p<0.05; ***p<0.01\n",
      "\n"
     ]
    }
   ],
   "source": [
    "res = subprocess.run([R_PATH, LOCAL_PATH + \"/src/R/playground.R\"], check=True, capture_output=True, text=True)\n",
    "print(res.stdout)"
   ]
  }
 ],
 "metadata": {
  "kernelspec": {
   "display_name": "Python 3",
   "language": "python",
   "name": "python3"
  },
  "language_info": {
   "codemirror_mode": {
    "name": "ipython",
    "version": 3
   },
   "file_extension": ".py",
   "mimetype": "text/x-python",
   "name": "python",
   "nbconvert_exporter": "python",
   "pygments_lexer": "ipython3",
   "version": "3.12.10"
  }
 },
 "nbformat": 4,
 "nbformat_minor": 5
}
