{
 "cells": [
  {
   "cell_type": "code",
   "execution_count": null,
   "id": "9b650868",
   "metadata": {},
   "outputs": [],
   "source": [
    "import os\n",
    "import sys\n",
    "import pandas as pd\n",
    "import yaml \n",
    "from matplotlib import pyplot as plt\n",
    "from matplotlib import ticker as mticker\n",
    "import statsmodels.api as sm\n",
    "import numpy as np\n",
    "from itertools import product\n",
    "import subprocess\n",
    "\n",
    "with open(\"../../config.yaml.local\", \"r\") as f:\n",
    "    LOCAL_CONFIG = yaml.safe_load(f)\n",
    "#with open(\"../../config.yaml\", \"r\") as f:\n",
    "#    CONFIG = yaml.safe_load(f)\n",
    "sys.path.append(\"../python\")\n",
    "\n",
    "import globals\n",
    "import data_tools as dt\n",
    "\n",
    "LOCAL_PATH = LOCAL_CONFIG[\"LOCAL_PATH\"]\n",
    "RAW_DATA_PATH = LOCAL_CONFIG[\"RAW_DATA_PATH\"]\n",
    "DATA_PATH = LOCAL_CONFIG[\"DATA_PATH\"]\n",
    "R_PATH = LOCAL_CONFIG[\"R_PATH\"]\n",
    "\n",
    "RUN_R_SCRIPTS = False\n"
   ]
  },
  {
   "cell_type": "code",
   "execution_count": null,
   "id": "3d3c42b0",
   "metadata": {},
   "outputs": [],
   "source": [
    "user_stats = dt.get_user_stats_days()\n",
    "user_stats['week'] = dt.as_week(user_stats['date'])\n",
    "\n",
    "items = dt.get_items()\n",
    "items['week'] = dt.as_week(items['created_at'])"
   ]
  },
  {
   "cell_type": "code",
   "execution_count": null,
   "id": "65a71ea8",
   "metadata": {},
   "outputs": [],
   "source": [
    "# Initialize user-weekly panel\n",
    "users = list(items['userId'].unique())\n",
    "week_start = globals.data_start.to_period('W-SAT').start_time\n",
    "week_end = globals.data_end.to_period('W-SAT').start_time\n",
    "weeks = list(pd.date_range(start=week_start, end=week_end, freq='7D'))\n",
    "df = pd.DataFrame( list(product(users, weeks)), columns=['userId', 'week'])\n",
    "\n",
    "# Merge on user first item and drop weeks before first item\n",
    "first_items = items.groupby('userId').agg(\n",
    "    first_item_week = ('week', 'min')\n",
    ").reset_index()\n",
    "df = df.merge(first_items, on='userId', how='left')\n",
    "df = df.loc[df['week'] >= df['first_item_week']].reset_index(drop=True)\n",
    "df = df.drop(columns=['first_item_week'])\n",
    "\n",
    "# User weekly stats\n",
    "weekly_stats = user_stats.drop(columns=['date'])\n",
    "weekly_stats = weekly_stats.groupby(['userId', 'week']).sum().reset_index()\n",
    "\n",
    "# Merge on weekly stats\n",
    "df = df.merge(weekly_stats, on=['userId', 'week'], how='left')\n",
    "df = df.fillna(0)"
   ]
  },
  {
   "cell_type": "code",
   "execution_count": null,
   "id": "46cd4bba",
   "metadata": {},
   "outputs": [],
   "source": [
    "# define activity as any comment, post, or zap\n",
    "df['activity'] = (\n",
    "    (df['comments'] > 0) | \n",
    "    (df['posts'] > 0) |\n",
    "    (df['sats_tipped'] > 0)\n",
    ")\n"
   ]
  },
  {
   "cell_type": "code",
   "execution_count": null,
   "id": "f9ea2d41",
   "metadata": {},
   "outputs": [],
   "source": [
    "user_stats.columns"
   ]
  },
  {
   "cell_type": "code",
   "execution_count": null,
   "id": "6c6d0294",
   "metadata": {},
   "outputs": [],
   "source": [
    "user_stats"
   ]
  }
 ],
 "metadata": {
  "kernelspec": {
   "display_name": "Python 3",
   "language": "python",
   "name": "python3"
  },
  "language_info": {
   "codemirror_mode": {
    "name": "ipython",
    "version": 3
   },
   "file_extension": ".py",
   "mimetype": "text/x-python",
   "name": "python",
   "nbconvert_exporter": "python",
   "pygments_lexer": "ipython3",
   "version": "3.12.10"
  }
 },
 "nbformat": 4,
 "nbformat_minor": 5
}
