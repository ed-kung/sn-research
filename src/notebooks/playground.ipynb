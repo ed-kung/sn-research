{
 "cells": [
  {
   "cell_type": "code",
   "execution_count": 1,
   "id": "9b650868",
   "metadata": {},
   "outputs": [],
   "source": [
    "import os\n",
    "import sys\n",
    "import pandas as pd\n",
    "import yaml \n",
    "from matplotlib import pyplot as plt\n",
    "\n",
    "with open(\"../../config.yaml.local\", \"r\") as f:\n",
    "    LOCAL_CONFIG = yaml.safe_load(f)\n",
    "with open(\"../../config.yaml\", \"r\") as f:\n",
    "    CONFIG = yaml.safe_load(f)\n",
    "sys.path.append(\"../python\")\n",
    "\n",
    "import globals\n",
    "\n",
    "RAW_DATA_PATH = LOCAL_CONFIG[\"RAW_DATA_PATH\"]\n"
   ]
  },
  {
   "cell_type": "code",
   "execution_count": 52,
   "id": "8dac2d2c",
   "metadata": {},
   "outputs": [],
   "source": [
    "users_df = pd.read_parquet(os.path.join(RAW_DATA_PATH, \"users.parquet\"))\n",
    "item_df = pd.read_parquet(os.path.join(RAW_DATA_PATH, \"item.parquet\"))\n",
    "itemact_df = pd.read_parquet(os.path.join(RAW_DATA_PATH, \"itemact.parquet\"))\n",
    "invoice_df = pd.read_parquet(os.path.join(RAW_DATA_PATH, \"invoice.parquet\"))\n",
    "withdrawal_df = pd.read_parquet(os.path.join(RAW_DATA_PATH, \"withdrawal.parquet\"))\n",
    "invoiceforward_df = pd.read_parquet(os.path.join(RAW_DATA_PATH, \"invoiceforward.parquet\"))\n",
    "wallet_df = pd.read_parquet(os.path.join(RAW_DATA_PATH, \"wallet.parquet\"))\n",
    "walletprotocol_df = pd.read_parquet(os.path.join(RAW_DATA_PATH, \"walletprotocol.parquet\"))\n"
   ]
  },
  {
   "cell_type": "code",
   "execution_count": 54,
   "id": "9a2e957b",
   "metadata": {},
   "outputs": [
    {
     "data": {
      "text/html": [
       "<div>\n",
       "<style scoped>\n",
       "    .dataframe tbody tr th:only-of-type {\n",
       "        vertical-align: middle;\n",
       "    }\n",
       "\n",
       "    .dataframe tbody tr th {\n",
       "        vertical-align: top;\n",
       "    }\n",
       "\n",
       "    .dataframe thead th {\n",
       "        text-align: right;\n",
       "    }\n",
       "</style>\n",
       "<table border=\"1\" class=\"dataframe\">\n",
       "  <thead>\n",
       "    <tr style=\"text-align: right;\">\n",
       "      <th></th>\n",
       "      <th>id</th>\n",
       "      <th>created_at</th>\n",
       "      <th>updated_at</th>\n",
       "      <th>config</th>\n",
       "      <th>walletId</th>\n",
       "      <th>send</th>\n",
       "      <th>name</th>\n",
       "      <th>enabled</th>\n",
       "      <th>status</th>\n",
       "    </tr>\n",
       "  </thead>\n",
       "  <tbody>\n",
       "    <tr>\n",
       "      <th>0</th>\n",
       "      <td>3171</td>\n",
       "      <td>2025-08-03 23:25:04.319</td>\n",
       "      <td>2025-10-05 18:49:19.344</td>\n",
       "      <td>None</td>\n",
       "      <td>2261</td>\n",
       "      <td>False</td>\n",
       "      <td>LN_ADDR</td>\n",
       "      <td>True</td>\n",
       "      <td>WARNING</td>\n",
       "    </tr>\n",
       "    <tr>\n",
       "      <th>1</th>\n",
       "      <td>3218</td>\n",
       "      <td>2025-08-07 00:05:34.318</td>\n",
       "      <td>2025-08-07 00:33:41.383</td>\n",
       "      <td>None</td>\n",
       "      <td>2293</td>\n",
       "      <td>True</td>\n",
       "      <td>WEBLN</td>\n",
       "      <td>True</td>\n",
       "      <td>ERROR</td>\n",
       "    </tr>\n",
       "    <tr>\n",
       "      <th>2</th>\n",
       "      <td>618</td>\n",
       "      <td>2025-07-16 11:31:13.754</td>\n",
       "      <td>2025-10-05 18:49:19.344</td>\n",
       "      <td>None</td>\n",
       "      <td>664</td>\n",
       "      <td>False</td>\n",
       "      <td>LN_ADDR</td>\n",
       "      <td>True</td>\n",
       "      <td>OK</td>\n",
       "    </tr>\n",
       "    <tr>\n",
       "      <th>3</th>\n",
       "      <td>1394</td>\n",
       "      <td>2025-07-16 11:31:13.754</td>\n",
       "      <td>2025-10-05 18:49:19.344</td>\n",
       "      <td>None</td>\n",
       "      <td>1030</td>\n",
       "      <td>False</td>\n",
       "      <td>LN_ADDR</td>\n",
       "      <td>True</td>\n",
       "      <td>OK</td>\n",
       "    </tr>\n",
       "    <tr>\n",
       "      <th>4</th>\n",
       "      <td>228</td>\n",
       "      <td>2025-07-16 11:31:13.754</td>\n",
       "      <td>2025-10-05 18:49:19.344</td>\n",
       "      <td>None</td>\n",
       "      <td>1573</td>\n",
       "      <td>False</td>\n",
       "      <td>LN_ADDR</td>\n",
       "      <td>True</td>\n",
       "      <td>OK</td>\n",
       "    </tr>\n",
       "  </tbody>\n",
       "</table>\n",
       "</div>"
      ],
      "text/plain": [
       "     id              created_at              updated_at config  walletId  \\\n",
       "0  3171 2025-08-03 23:25:04.319 2025-10-05 18:49:19.344   None      2261   \n",
       "1  3218 2025-08-07 00:05:34.318 2025-08-07 00:33:41.383   None      2293   \n",
       "2   618 2025-07-16 11:31:13.754 2025-10-05 18:49:19.344   None       664   \n",
       "3  1394 2025-07-16 11:31:13.754 2025-10-05 18:49:19.344   None      1030   \n",
       "4   228 2025-07-16 11:31:13.754 2025-10-05 18:49:19.344   None      1573   \n",
       "\n",
       "    send     name  enabled   status  \n",
       "0  False  LN_ADDR     True  WARNING  \n",
       "1   True    WEBLN     True    ERROR  \n",
       "2  False  LN_ADDR     True       OK  \n",
       "3  False  LN_ADDR     True       OK  \n",
       "4  False  LN_ADDR     True       OK  "
      ]
     },
     "execution_count": 54,
     "metadata": {},
     "output_type": "execute_result"
    }
   ],
   "source": [
    "walletprotocol_df.head(5)"
   ]
  },
  {
   "cell_type": "code",
   "execution_count": 59,
   "id": "cfda130d",
   "metadata": {},
   "outputs": [
    {
     "data": {
      "text/plain": [
       "Index(['id', 'created_at', 'updated_at', 'userId', 'hash', 'bolt11',\n",
       "       'msatsPaying', 'msatsPaid', 'msatsFeePaying', 'msatsFeePaid', 'status',\n",
       "       'autoWithdraw', 'protocolId', 'preimage'],\n",
       "      dtype='object')"
      ]
     },
     "execution_count": 59,
     "metadata": {},
     "output_type": "execute_result"
    }
   ],
   "source": [
    "withdrawal_df.columns"
   ]
  },
  {
   "cell_type": "code",
   "execution_count": 15,
   "id": "6670e140",
   "metadata": {},
   "outputs": [
    {
     "data": {
      "text/plain": [
       "bolt11\n",
       "True    588462\n",
       "Name: count, dtype: int64"
      ]
     },
     "execution_count": 15,
     "metadata": {},
     "output_type": "execute_result"
    }
   ],
   "source": [
    "withdrawal_df['bolt11'].isnull().value_counts()"
   ]
  },
  {
   "cell_type": "code",
   "execution_count": 6,
   "id": "51507d1d",
   "metadata": {},
   "outputs": [
    {
     "data": {
      "text/plain": [
       "Index(['id', 'created_at', 'updated_at', 'bolt11', 'maxFeeMsats', 'protocolId',\n",
       "       'expiryHeight', 'acceptHeight', 'invoiceId', 'withdrawlId'],\n",
       "      dtype='object')"
      ]
     },
     "execution_count": 6,
     "metadata": {},
     "output_type": "execute_result"
    }
   ],
   "source": [
    "invoiceforward_df.columns"
   ]
  },
  {
   "cell_type": "code",
   "execution_count": 41,
   "id": "43963323",
   "metadata": {},
   "outputs": [
    {
     "name": "stdout",
     "output_type": "stream",
     "text": [
      "30,737 users, 1,240,214 items from 2021-06-11 to 2025-10-05\n"
     ]
    }
   ],
   "source": [
    "# summary\n",
    "n_users = len(users_df)\n",
    "n_items = len(item_df)\n",
    "first_date = item_df['created_at'].min().strftime('%Y-%m-%d')\n",
    "last_date = item_df['created_at'].max().strftime('%Y-%m-%d')\n",
    "print(f\"{n_users:,.0f} users, {n_items:,.0f} items from {first_date} to {last_date}\")"
   ]
  },
  {
   "cell_type": "code",
   "execution_count": null,
   "id": "c768220b",
   "metadata": {},
   "outputs": [
    {
     "data": {
      "text/plain": [
       "attach_date\n",
       "False    2298\n",
       "Name: count, dtype: int64"
      ]
     },
     "execution_count": 48,
     "metadata": {},
     "output_type": "execute_result"
    }
   ],
   "source": [
    "# Receive wallet attach date\n",
    "# minimum of first autowithdraw date and first wallet create date\n",
    "\n",
    "# first autowithdraw date\n",
    "idx = (withdrawal_df['autoWithdraw']==True) & (withdrawal_df['status']=='CONFIRMED')\n",
    "autowithdraw_df = withdrawal_df.loc[idx].groupby('userId').agg(\n",
    "    first_auto_withdraw = ('created_at', 'min')\n",
    ").reset_index()\n",
    "\n",
    "# first wallet create date\n",
    "wallet_create_df = wallet_df.groupby('userId').agg(\n",
    "    first_wallet_create = ('created_at', 'min')\n",
    ").reset_index()\n",
    "\n",
    "attach_df = wallet_create_df.merge(autowithdraw_df, on='userId', how='outer')\n",
    "\n",
    "attach_df['attach_date'] = attach_df[['first_wallet_create', 'first_auto_withdraw']].min(axis=1)\n"
   ]
  },
  {
   "cell_type": "code",
   "execution_count": 69,
   "id": "345737a4",
   "metadata": {},
   "outputs": [
    {
     "data": {
      "image/png": "[encoded data removed]",
      "text/plain": [
       "<Figure size 600x400 with 1 Axes>"
      ]
     },
     "metadata": {},
     "output_type": "display_data"
    }
   ],
   "source": [
    "# plot cumulative wallet attaches\n",
    "\n",
    "plot_df = attach_df['first_auto_withdraw'].dt.date.value_counts().sort_index().cumsum()\n",
    "\n",
    "plt.figure(figsize=(6,4))\n",
    "plt.step(plot_df.index, plot_df.values, where='post', label='Ever auto-withdrew')\n",
    "plt.axvline(globals.nc_date, color='red', linestyle='--')\n",
    "plt.text(globals.nc_date - pd.to_timedelta(10,unit='D'), 1250, 'SN goes non-custodial', ha='right')\n",
    "plt.xticks(rotation=45)\n",
    "plt.legend(loc='lower right')\n",
    "plt.title(\"Cumulative Number of Users Attaching Wallets\")\n",
    "plt.grid(alpha=0.2)\n",
    "plt.show()"
   ]
  }
 ],
 "metadata": {
  "kernelspec": {
   "display_name": "Python 3",
   "language": "python",
   "name": "python3"
  },
  "language_info": {
   "codemirror_mode": {
    "name": "ipython",
    "version": 3
   },
   "file_extension": ".py",
   "mimetype": "text/x-python",
   "name": "python",
   "nbconvert_exporter": "python",
   "pygments_lexer": "ipython3",
   "version": "3.12.10"
  }
 },
 "nbformat": 4,
 "nbformat_minor": 5
}
