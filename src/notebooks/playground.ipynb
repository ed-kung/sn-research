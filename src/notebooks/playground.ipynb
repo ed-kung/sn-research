{
 "cells": [
  {
   "cell_type": "code",
   "execution_count": 1,
   "id": "9b650868",
   "metadata": {},
   "outputs": [],
   "source": [
    "import os\n",
    "import sys\n",
    "import pandas as pd\n",
    "import yaml \n",
    "from matplotlib import pyplot as plt\n",
    "from matplotlib import ticker as mticker\n",
    "from matplotlib import colors as mcolors\n",
    "import statsmodels.api as sm\n",
    "import numpy as np\n",
    "from itertools import product\n",
    "import subprocess\n",
    "import networkx as nx\n",
    "\n",
    "with open(\"../../config.yaml.local\", \"r\") as f:\n",
    "    LOCAL_CONFIG = yaml.safe_load(f)\n",
    "#with open(\"../../config.yaml\", \"r\") as f:\n",
    "#    CONFIG = yaml.safe_load(f)\n",
    "sys.path.append(\"../python\")\n",
    "\n",
    "import globals\n",
    "import data_tools as dt\n",
    "\n",
    "LOCAL_PATH = LOCAL_CONFIG[\"LOCAL_PATH\"]\n",
    "RAW_DATA_PATH = LOCAL_CONFIG[\"RAW_DATA_PATH\"]\n",
    "DATA_PATH = LOCAL_CONFIG[\"DATA_PATH\"]\n",
    "R_PATH = LOCAL_CONFIG[\"R_PATH\"]\n",
    "\n",
    "RUN_R_SCRIPTS = False\n",
    "OVERWRITE = False\n"
   ]
  },
  {
   "cell_type": "code",
   "execution_count": 2,
   "id": "706e619b",
   "metadata": {},
   "outputs": [],
   "source": [
    "items = dt.get_items(overwrite=OVERWRITE)\n",
    "posts = dt.get_posts(overwrite=OVERWRITE)\n",
    "comments = dt.get_comments(overwrite=OVERWRITE)"
   ]
  },
  {
   "cell_type": "code",
   "execution_count": 3,
   "id": "2fa0628d",
   "metadata": {},
   "outputs": [],
   "source": [
    "selector = (posts['text'].notnull()) & \\\n",
    "           (posts['text'].str.len() > 0) & \\\n",
    "           (posts['invoiceActionState'] != 'FAILED')\n",
    "posts = posts.loc[selector].reset_index(drop=True)\n",
    "posts['num_internal_links'] = posts['text'].apply(\n",
    "    lambda x: len(dt.extract_internal_links(x))\n",
    ")\n",
    "posts_w_links = posts.loc[posts['num_internal_links']>0].reset_index(drop=True)"
   ]
  },
  {
   "cell_type": "code",
   "execution_count": 4,
   "id": "d87b808f",
   "metadata": {},
   "outputs": [
    {
     "name": "stdout",
     "output_type": "stream",
     "text": [
      "Number of nodes: 14797\n",
      "Number of edges: 33649\n"
     ]
    }
   ],
   "source": [
    "# create graph\n",
    "\n",
    "DG = nx.DiGraph()\n",
    "for idx, row in posts_w_links.iterrows():\n",
    "    source_id = int(row['itemId'])\n",
    "    source_user = row['userId']\n",
    "    source_title = row['title']\n",
    "    source_sub = row['subName']\n",
    "    source_link = f\"https://stacker.news/items/{source_id}\"\n",
    "    internal_links = dt.extract_internal_links(row['text'])\n",
    "    for dest_id in [int(item) for item in internal_links]:\n",
    "        destrow = posts.loc[posts['itemId']==dest_id]\n",
    "        if (not destrow.empty) and (dest_id != source_id):\n",
    "            dest_user = destrow['userId'].values[0]\n",
    "            dest_title = destrow['title'].values[0]\n",
    "            dest_sub = destrow['subName'].values[0]\n",
    "            dest_link = f\"https://stacker.news/items/{dest_id}\"\n",
    "            DG.add_node(source_id, title=source_title, territory=source_sub, link=source_link)\n",
    "            DG.add_node(dest_id, title=dest_title, territory=dest_sub, link=dest_link)\n",
    "            DG.add_edge(source_id, dest_id)\n",
    "\n",
    "print(f\"Number of nodes: {DG.number_of_nodes()}\")\n",
    "print(f\"Number of edges: {DG.number_of_edges()}\")"
   ]
  },
  {
   "cell_type": "code",
   "execution_count": 5,
   "id": "74224258",
   "metadata": {},
   "outputs": [
    {
     "name": "stdout",
     "output_type": "stream",
     "text": [
      "Node with most incoming links: 410853 with 135 links\n"
     ]
    }
   ],
   "source": [
    "# Node with most incoming links\n",
    "max_in_degree_node = max(DG.in_degree, key=lambda x: x[1])\n",
    "print(f\"Node with most incoming links: {max_in_degree_node[0]} with {max_in_degree_node[1]} links\")"
   ]
  },
  {
   "cell_type": "code",
   "execution_count": 6,
   "id": "efb9f1ca",
   "metadata": {},
   "outputs": [
    {
     "name": "stdout",
     "output_type": "stream",
     "text": [
      "Node with most outgoing links: 1214495 with 167 links\n"
     ]
    }
   ],
   "source": [
    "# Node with most outgoing links\n",
    "max_out_degree_node = max(DG.out_degree, key=lambda x: x[1])\n",
    "print(f\"Node with most outgoing links: {max_out_degree_node[0]} with {max_out_degree_node[1]} links\")"
   ]
  },
  {
   "cell_type": "code",
   "execution_count": 7,
   "id": "2d217b82",
   "metadata": {},
   "outputs": [],
   "source": [
    "# Get the subs\n",
    "subs = set(nx.get_node_attributes(DG, 'territory').values())\n",
    "sub2nodes = {}\n",
    "for sub in subs:\n",
    "    sub2nodes[sub] = [n for n, attr in DG.nodes(data=True) if attr.get('territory') == sub]\n",
    "sub2colors = {}\n",
    "for sub in subs:\n",
    "    sub2colors[sub] = 'gray'  # default color\n",
    "sub2colors['bitcoin'] = 'orange'\n",
    "sub2colors['econ'] = 'green'\n",
    "sub2colors['booksandarticles'] = 'tab:brown'\n",
    "sub2colors['ai'] = 'purple'\n",
    "sub2colors['stacker_sports'] = 'red'\n",
    "sub2colors['tech'] = 'blue'\n",
    "node_colors = [sub2colors[DG.nodes[n]['territory']] for n in DG.nodes()]"
   ]
  },
  {
   "cell_type": "code",
   "execution_count": null,
   "id": "6860d779",
   "metadata": {},
   "outputs": [],
   "source": [
    "# Get positions with territory based separation\n",
    "\n",
    "# supergraph of territory positions\n",
    "supergraph = nx.cycle_graph(len(subs))\n",
    "superpos = nx.spring_layout(supergraph, scale=3)\n",
    "centers = list(superpos.values())\n",
    "pos = {}\n",
    "for center, sub in zip(centers, subs):\n",
    "    nodes = sub2nodes[sub]\n",
    "    subgraph = DG.subgraph(nodes)\n",
    "    pos.update(nx.spring_layout(subgraph, center=center))\n"
   ]
  },
  {
   "cell_type": "code",
   "execution_count": null,
   "id": "6047f948",
   "metadata": {},
   "outputs": [],
   "source": [
    "# Get positions based on automated communities\n",
    "\n",
    "communities = nx.community.greedy_modularity_communities(DG.to_undirected())\n",
    "supergraph = nx.cycle_graph(len(communities))\n",
    "superpos = nx.spring_layout(supergraph, scale=2)\n",
    "centers = list(superpos.values())\n",
    "pos = {}\n",
    "for center, comm in zip(centers, communities):\n",
    "    subgraph = DG.subgraph(comm)\n",
    "    pos.update(nx.spring_layout(subgraph, center=center))\n"
   ]
  },
  {
   "cell_type": "code",
   "execution_count": 8,
   "id": "13a8dbed",
   "metadata": {},
   "outputs": [
    {
     "ename": "ImportError",
     "evalue": "requires pygraphviz http://pygraphviz.github.io/",
     "output_type": "error",
     "traceback": [
      "\u001b[1;31m---------------------------------------------------------------------------\u001b[0m",
      "\u001b[1;31mModuleNotFoundError\u001b[0m                       Traceback (most recent call last)",
      "File \u001b[1;32m~\\AppData\\Local\\Packages\\PythonSoftwareFoundation.Python.3.12_qbz5n2kfra8p0\\LocalCache\\local-packages\\Python312\\site-packages\\networkx\\drawing\\nx_agraph.py:301\u001b[0m, in \u001b[0;36mpygraphviz_layout\u001b[1;34m(G, prog, root, args)\u001b[0m\n\u001b[0;32m    300\u001b[0m \u001b[38;5;28;01mtry\u001b[39;00m:\n\u001b[1;32m--> 301\u001b[0m     \u001b[38;5;28;01mimport\u001b[39;00m \u001b[38;5;21;01mpygraphviz\u001b[39;00m\n\u001b[0;32m    302\u001b[0m \u001b[38;5;28;01mexcept\u001b[39;00m \u001b[38;5;167;01mImportError\u001b[39;00m \u001b[38;5;28;01mas\u001b[39;00m err:\n",
      "\u001b[1;31mModuleNotFoundError\u001b[0m: No module named 'pygraphviz'",
      "\nThe above exception was the direct cause of the following exception:\n",
      "\u001b[1;31mImportError\u001b[0m                               Traceback (most recent call last)",
      "Cell \u001b[1;32mIn[8], line 3\u001b[0m\n\u001b[0;32m      1\u001b[0m \u001b[38;5;66;03m# Get positions based on sfdp layout\u001b[39;00m\n\u001b[1;32m----> 3\u001b[0m pos \u001b[38;5;241m=\u001b[39m \u001b[43mnx\u001b[49m\u001b[38;5;241;43m.\u001b[39;49m\u001b[43mnx_agraph\u001b[49m\u001b[38;5;241;43m.\u001b[39;49m\u001b[43mgraphviz_layout\u001b[49m\u001b[43m(\u001b[49m\u001b[43mDG\u001b[49m\u001b[43m,\u001b[49m\u001b[43m \u001b[49m\u001b[43mprog\u001b[49m\u001b[38;5;241;43m=\u001b[39;49m\u001b[38;5;124;43m'\u001b[39;49m\u001b[38;5;124;43msfdp\u001b[39;49m\u001b[38;5;124;43m'\u001b[39;49m\u001b[43m)\u001b[49m\n",
      "File \u001b[1;32m~\\AppData\\Local\\Packages\\PythonSoftwareFoundation.Python.3.12_qbz5n2kfra8p0\\LocalCache\\local-packages\\Python312\\site-packages\\networkx\\drawing\\nx_agraph.py:257\u001b[0m, in \u001b[0;36mgraphviz_layout\u001b[1;34m(G, prog, root, args)\u001b[0m\n\u001b[0;32m    226\u001b[0m \u001b[38;5;28;01mdef\u001b[39;00m \u001b[38;5;21mgraphviz_layout\u001b[39m(G, prog\u001b[38;5;241m=\u001b[39m\u001b[38;5;124m\"\u001b[39m\u001b[38;5;124mneato\u001b[39m\u001b[38;5;124m\"\u001b[39m, root\u001b[38;5;241m=\u001b[39m\u001b[38;5;28;01mNone\u001b[39;00m, args\u001b[38;5;241m=\u001b[39m\u001b[38;5;124m\"\u001b[39m\u001b[38;5;124m\"\u001b[39m):\n\u001b[0;32m    227\u001b[0m \u001b[38;5;250m    \u001b[39m\u001b[38;5;124;03m\"\"\"Create node positions for G using Graphviz.\u001b[39;00m\n\u001b[0;32m    228\u001b[0m \n\u001b[0;32m    229\u001b[0m \u001b[38;5;124;03m    Parameters\u001b[39;00m\n\u001b[1;32m   (...)\u001b[0m\n\u001b[0;32m    255\u001b[0m \u001b[38;5;124;03m    see https://gitlab.com/graphviz/graphviz/-/issues/1767 for more info.\u001b[39;00m\n\u001b[0;32m    256\u001b[0m \u001b[38;5;124;03m    \"\"\"\u001b[39;00m\n\u001b[1;32m--> 257\u001b[0m     \u001b[38;5;28;01mreturn\u001b[39;00m \u001b[43mpygraphviz_layout\u001b[49m\u001b[43m(\u001b[49m\u001b[43mG\u001b[49m\u001b[43m,\u001b[49m\u001b[43m \u001b[49m\u001b[43mprog\u001b[49m\u001b[38;5;241;43m=\u001b[39;49m\u001b[43mprog\u001b[49m\u001b[43m,\u001b[49m\u001b[43m \u001b[49m\u001b[43mroot\u001b[49m\u001b[38;5;241;43m=\u001b[39;49m\u001b[43mroot\u001b[49m\u001b[43m,\u001b[49m\u001b[43m \u001b[49m\u001b[43margs\u001b[49m\u001b[38;5;241;43m=\u001b[39;49m\u001b[43margs\u001b[49m\u001b[43m)\u001b[49m\n",
      "File \u001b[1;32m~\\AppData\\Local\\Packages\\PythonSoftwareFoundation.Python.3.12_qbz5n2kfra8p0\\LocalCache\\local-packages\\Python312\\site-packages\\networkx\\drawing\\nx_agraph.py:303\u001b[0m, in \u001b[0;36mpygraphviz_layout\u001b[1;34m(G, prog, root, args)\u001b[0m\n\u001b[0;32m    301\u001b[0m     \u001b[38;5;28;01mimport\u001b[39;00m \u001b[38;5;21;01mpygraphviz\u001b[39;00m\n\u001b[0;32m    302\u001b[0m \u001b[38;5;28;01mexcept\u001b[39;00m \u001b[38;5;167;01mImportError\u001b[39;00m \u001b[38;5;28;01mas\u001b[39;00m err:\n\u001b[1;32m--> 303\u001b[0m     \u001b[38;5;28;01mraise\u001b[39;00m \u001b[38;5;167;01mImportError\u001b[39;00m(\u001b[38;5;124m\"\u001b[39m\u001b[38;5;124mrequires pygraphviz http://pygraphviz.github.io/\u001b[39m\u001b[38;5;124m\"\u001b[39m) \u001b[38;5;28;01mfrom\u001b[39;00m \u001b[38;5;21;01merr\u001b[39;00m\n\u001b[0;32m    304\u001b[0m \u001b[38;5;28;01mif\u001b[39;00m root \u001b[38;5;129;01mis\u001b[39;00m \u001b[38;5;129;01mnot\u001b[39;00m \u001b[38;5;28;01mNone\u001b[39;00m:\n\u001b[0;32m    305\u001b[0m     args \u001b[38;5;241m+\u001b[39m\u001b[38;5;241m=\u001b[39m \u001b[38;5;124mf\u001b[39m\u001b[38;5;124m\"\u001b[39m\u001b[38;5;124m-Groot=\u001b[39m\u001b[38;5;132;01m{\u001b[39;00mroot\u001b[38;5;132;01m}\u001b[39;00m\u001b[38;5;124m\"\u001b[39m\n",
      "\u001b[1;31mImportError\u001b[0m: requires pygraphviz http://pygraphviz.github.io/"
     ]
    }
   ],
   "source": [
    "# Get positions based on sfdp layout\n",
    "\n",
    "pos = nx.nx_agraph.graphviz_layout(DG, prog='sfdp')"
   ]
  },
  {
   "cell_type": "code",
   "execution_count": null,
   "id": "491fd7cc",
   "metadata": {},
   "outputs": [],
   "source": [
    "plt.figure(figsize=(12, 12))\n",
    "\n",
    "for sub, nodes in sub2nodes.items():\n",
    "    nx.draw_networkx_nodes(\n",
    "        DG, pos, \n",
    "        nodelist=nodes,\n",
    "        node_color=sub2colors[sub],\n",
    "        node_size=3,\n",
    "        alpha=0.7 \n",
    "    )\n",
    "nx.draw_networkx_edges(\n",
    "    DG, pos, \n",
    "    edge_color = 'gray',\n",
    "    width = 0.2,\n",
    "    alpha = 0.3,\n",
    "    node_size=3,\n",
    "    arrowsize=1\n",
    ")\n",
    "\n",
    "plt.show()"
   ]
  },
  {
   "cell_type": "code",
   "execution_count": null,
   "id": "919e2cc4",
   "metadata": {},
   "outputs": [],
   "source": [
    "# Get positions based on layout\n"
   ]
  },
  {
   "cell_type": "code",
   "execution_count": null,
   "id": "79c01d05",
   "metadata": {},
   "outputs": [],
   "source": [
    "plt.figure(figsize=(12, 12))\n",
    "nx.draw_networkx_nodes(\n",
    "    DG, pos, \n",
    "    node_color = node_colors,\n",
    "    node_size = 3,\n",
    "    alpha = 0.7\n",
    ")\n",
    "nx.draw_networkx_edges(\n",
    "    DG, pos,\n",
    "    edge_color = 'gray',\n",
    "    width = 0.2,\n",
    "    alpha = 0.3,\n",
    "    arrowsize = 1,\n",
    "    node_size = 3\n",
    ")\n",
    "plt.show()"
   ]
  },
  {
   "cell_type": "code",
   "execution_count": null,
   "id": "0c064b02",
   "metadata": {},
   "outputs": [],
   "source": [
    "nodes = sub2nodes['econ']\n",
    "subgraph = DG.subgraph(nodes)\n",
    "\n",
    "communities = nx.community.greedy_modularity_communities(subgraph)\n",
    "\n",
    "supergraph = nx.cycle_graph(len(communities))\n",
    "superpos = nx.spring_layout(supergraph, scale=2)\n",
    "\n",
    "centers = list(superpos.values())\n",
    "pos = {}\n",
    "for center, comm in zip(centers, communities):\n",
    "    pos.update(nx.spring_layout(nx.subgraph(subgraph, comm), center=center))\n",
    "\n",
    "colors = plt.cm.get_cmap('tab20', len(communities))\n",
    "\n",
    "plt.figure(figsize=(12, 12))\n",
    "\n",
    "for i, nodes in enumerate(communities):\n",
    "    nx.draw_networkx_nodes(\n",
    "        subgraph, pos,\n",
    "        nodelist=nodes,\n",
    "        node_size=3,\n",
    "        node_color=colors(i),\n",
    "        alpha=0.7\n",
    "    )\n",
    "nx.draw_networkx_edges(\n",
    "    subgraph, pos,\n",
    "    width=0.2,\n",
    "    alpha=0.3,\n",
    "    arrowsize=1,\n",
    "    node_size=3\n",
    ")\n",
    "\n",
    "plt.show()"
   ]
  },
  {
   "cell_type": "code",
   "execution_count": null,
   "id": "74532c4a",
   "metadata": {},
   "outputs": [],
   "source": [
    "communities[0]"
   ]
  }
 ],
 "metadata": {
  "kernelspec": {
   "display_name": "Python 3",
   "language": "python",
   "name": "python3"
  },
  "language_info": {
   "codemirror_mode": {
    "name": "ipython",
    "version": 3
   },
   "file_extension": ".py",
   "mimetype": "text/x-python",
   "name": "python",
   "nbconvert_exporter": "python",
   "pygments_lexer": "ipython3",
   "version": "3.12.10"
  }
 },
 "nbformat": 4,
 "nbformat_minor": 5
}
