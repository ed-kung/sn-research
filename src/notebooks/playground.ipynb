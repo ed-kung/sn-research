{
 "cells": [
  {
   "cell_type": "code",
   "execution_count": null,
   "id": "9b650868",
   "metadata": {},
   "outputs": [],
   "source": [
    "import os\n",
    "import sys\n",
    "import pandas as pd\n",
    "import yaml \n",
    "from matplotlib import pyplot as plt\n",
    "\n",
    "with open(\"../../config.yaml.local\", \"r\") as f:\n",
    "    LOCAL_CONFIG = yaml.safe_load(f)\n",
    "#with open(\"../../config.yaml\", \"r\") as f:\n",
    "#    CONFIG = yaml.safe_load(f)\n",
    "sys.path.append(\"../python\")\n",
    "\n",
    "import globals\n",
    "import data_tools as dt\n",
    "\n",
    "RAW_DATA_PATH = LOCAL_CONFIG[\"RAW_DATA_PATH\"]\n"
   ]
  },
  {
   "cell_type": "code",
   "execution_count": null,
   "id": "bb65c77b",
   "metadata": {},
   "outputs": [],
   "source": [
    "df = dt.get_posts()"
   ]
  },
  {
   "cell_type": "code",
   "execution_count": null,
   "id": "d711d9a0",
   "metadata": {},
   "outputs": [],
   "source": [
    "tdf = pd.read_parquet(os.path.join(RAW_DATA_PATH, \"territorytransfer.parquet\"))\n",
    "tdf"
   ]
  },
  {
   "cell_type": "code",
   "execution_count": null,
   "id": "b622bf3d",
   "metadata": {},
   "outputs": [],
   "source": [
    "# territory posting fees\n",
    "\n",
    "mask = (~df['bio']) & (~df['freebie']) & (df['cost']>0) & (df['cost_modifier']==0) & \\\n",
    "       (df['n_uploads']==0) & (~df['id'].isin(globals.perennial_item_ids)) & \\\n",
    "       (df['userId'] != globals.anon_id) & (df['cost']>0) & \\\n",
    "       (df['invoiceActionState'] != 'FAILED')\n",
    "\n",
    "my_df = df.loc[mask, ['subName', 'created_at', 'cost']].sort_values(\n",
    "    by=['subName', 'created_at'], ascending=True\n",
    ").reset_index(drop=True)\n",
    "\n",
    "# smooth over\n",
    "for idx in range(1, len(my_df)-1):\n",
    "    prev_sub = my_df.at[idx-1, 'subName']\n",
    "    curr_sub = my_df.at[idx, 'subName']\n",
    "    next_sub = my_df.at[idx+1, 'subName']\n",
    "    prev_cost = my_df.at[idx-1, 'cost']\n",
    "    curr_cost = my_df.at[idx, 'cost']\n",
    "    next_cost = my_df.at[idx+1, 'cost']\n",
    "    if (prev_sub == curr_sub) and (next_sub == curr_sub) and (prev_cost == next_cost):\n",
    "        my_df.at[idx, 'cost'] = prev_cost\n",
    "\n",
    "plot_df = my_df.loc[my_df['subName']=='tech']\n",
    "plt.step(plot_df['created_at'], plot_df['cost'], where='post')\n",
    "plt.xticks(rotation=45)\n",
    "plt.show()\n"
   ]
  },
  {
   "cell_type": "code",
   "execution_count": null,
   "id": "b3b2e9c8",
   "metadata": {},
   "outputs": [],
   "source": [
    "df.loc[mask & (df['subName']=='bitcoin')].sort_values(by='created_at', ascending=True).to_csv(\"temp.csv\")"
   ]
  },
  {
   "cell_type": "code",
   "execution_count": null,
   "id": "c7e0f780",
   "metadata": {},
   "outputs": [],
   "source": [
    "df.loc[ df['userId']==14515].sort_values(by='created_at', ascending=True).to_csv(\"temp2.csv\")"
   ]
  },
  {
   "cell_type": "code",
   "execution_count": null,
   "id": "a0c7872e",
   "metadata": {},
   "outputs": [],
   "source": [
    "idx = (df['subName']=='devs') & (df['created_at'].dt.date == pd.to_datetime('2025-04-08').date())\n",
    "df.loc[idx]"
   ]
  },
  {
   "cell_type": "code",
   "execution_count": null,
   "id": "7d515497",
   "metadata": {},
   "outputs": [],
   "source": [
    "idx = (df['subName']=='devs') & (df['userId']==616) & (df['created_at'].dt.date == pd.to_datetime('2025-04-08').date())\n",
    "df.loc[idx]"
   ]
  },
  {
   "cell_type": "code",
   "execution_count": null,
   "id": "91736dc0",
   "metadata": {},
   "outputs": [],
   "source": [
    "idx = (df['userId']==616) & (df['created_at'].dt.date == pd.to_datetime('2025-04-08').date())\n",
    "df.loc[idx].sort_values(by='created_at', ascending=True)"
   ]
  },
  {
   "cell_type": "code",
   "execution_count": null,
   "id": "2121b6e6",
   "metadata": {},
   "outputs": [],
   "source": [
    "itemact_df = pd.read_parquet(os.path.join(RAW_DATA_PATH, \"itemact.parquet\"))\n",
    "itemact_df.loc[(itemact_df['itemId']==937934) & (itemact_df['userId']==616)]"
   ]
  },
  {
   "cell_type": "code",
   "execution_count": null,
   "id": "2f0bfd2a",
   "metadata": {},
   "outputs": [],
   "source": [
    "item_df = pd.read_parquet(os.path.join(RAW_DATA_PATH, \"item.parquet\"))\n",
    "for col in item_df.columns:\n",
    "    print(col)\n",
    "    print(item_df.loc[item_df['id']==886922, col].iloc[0])\n",
    "    print('')"
   ]
  }
 ],
 "metadata": {
  "kernelspec": {
   "display_name": "Python 3",
   "language": "python",
   "name": "python3"
  },
  "language_info": {
   "codemirror_mode": {
    "name": "ipython",
    "version": 3
   },
   "file_extension": ".py",
   "mimetype": "text/x-python",
   "name": "python",
   "nbconvert_exporter": "python",
   "pygments_lexer": "ipython3",
   "version": "3.9.6"
  }
 },
 "nbformat": 4,
 "nbformat_minor": 5
}
