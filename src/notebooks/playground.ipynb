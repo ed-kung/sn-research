{
 "cells": [
  {
   "cell_type": "code",
   "execution_count": null,
   "id": "9b650868",
   "metadata": {},
   "outputs": [],
   "source": [
    "import os\n",
    "import sys\n",
    "import pandas as pd\n",
    "import yaml \n",
    "from matplotlib import pyplot as plt\n",
    "import statsmodels.api as sm\n",
    "import numpy as np\n",
    "from itertools import product\n",
    "\n",
    "with open(\"../../config.yaml.local\", \"r\") as f:\n",
    "    LOCAL_CONFIG = yaml.safe_load(f)\n",
    "#with open(\"../../config.yaml\", \"r\") as f:\n",
    "#    CONFIG = yaml.safe_load(f)\n",
    "sys.path.append(\"../python\")\n",
    "\n",
    "import globals\n",
    "import data_tools as dt\n",
    "\n",
    "LOCAL_PATH = LOCAL_CONFIG[\"LOCAL_PATH\"]\n",
    "RAW_DATA_PATH = LOCAL_CONFIG[\"RAW_DATA_PATH\"]\n"
   ]
  },
  {
   "cell_type": "code",
   "execution_count": null,
   "id": "565d1493",
   "metadata": {},
   "outputs": [],
   "source": [
    "tdf = dt.get_territory_by_day_panel()"
   ]
  },
  {
   "cell_type": "code",
   "execution_count": null,
   "id": "e6ef7dfa",
   "metadata": {},
   "outputs": [],
   "source": [
    "tdf['week'] = tdf['date'].dt.to_period('W-SAT').dt.start_time"
   ]
  },
  {
   "cell_type": "code",
   "execution_count": null,
   "id": "9953c182",
   "metadata": {},
   "outputs": [],
   "source": [
    "wdf = tdf.groupby(['subName', 'week']).agg(\n",
    "    n_posts = ('n_posts', 'sum'),\n",
    "    posting_fee = ('posting_fee', 'mean')\n",
    ").reset_index()"
   ]
  },
  {
   "cell_type": "code",
   "execution_count": null,
   "id": "45f6c4a5",
   "metadata": {},
   "outputs": [],
   "source": [
    "plt.scatter(np.log(1+wdf['posting_fee']), wdf['n_posts'], alpha=0.5)\n",
    "\n",
    "np.arcsinh"
   ]
  }
 ],
 "metadata": {
  "kernelspec": {
   "display_name": "Python 3",
   "language": "python",
   "name": "python3"
  },
  "language_info": {
   "codemirror_mode": {
    "name": "ipython",
    "version": 3
   },
   "file_extension": ".py",
   "mimetype": "text/x-python",
   "name": "python",
   "nbconvert_exporter": "python",
   "pygments_lexer": "ipython3",
   "version": "3.12.10"
  }
 },
 "nbformat": 4,
 "nbformat_minor": 5
}
